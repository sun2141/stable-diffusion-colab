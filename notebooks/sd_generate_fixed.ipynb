{
 "cells": [
  {
   "cell_type": "code",
   "execution_count": null,
   "id": "03f0139d",
   "metadata": {},
   "outputs": [],
   "source": [
    "# ✅ 설치된 requirements.txt로 환경 구성\n",
    "!pip install -r https://raw.githubusercontent.com/sun2141/stable-diffusion-colab/main/requirements.txt"
   ]
  },
  {
   "cell_type": "code",
   "execution_count": null,
   "id": "5d39a136",
   "metadata": {},
   "outputs": [],
   "source": [
    "# ✅ 모델 임포트 시작\n",
    "from diffusers import StableDiffusionPipeline, StableDiffusionImg2ImgPipeline\n",
    "from PIL import Image\n",
    "import torch\n",
    "import gradio as gr\n",
    "import numpy as np"
   ]
  },
  {
   "cell_type": "code",
   "execution_count": null,
   "id": "5f1bd74f",
   "metadata": {},
   "outputs": [],
   "source": [
    "# ✅ 모델 불러오기\n",
    "pipe_txt2img = StableDiffusionPipeline.from_pretrained(\n",
    "    \"CompVis/stable-diffusion-v1-4\", torch_dtype=torch.float16\n",
    ").to(\"cuda\")"
   ]
  },
  {
   "cell_type": "code",
   "execution_count": null,
   "id": "746df0a7",
   "metadata": {},
   "outputs": [],
   "source": [
    "pipe_img2img = StableDiffusionImg2ImgPipeline.from_pretrained(\n",
    "    \"CompVis/stable-diffusion-v1-4\", torch_dtype=torch.float16\n",
    ").to(\"cuda\")"
   ]
  },
  {
   "cell_type": "code",
   "execution_count": null,
   "id": "3ce028a6",
   "metadata": {},
   "outputs": [],
   "source": [
    "# ✅ 생성 함수\n",
    "def infer(prompt, init_image, strength):\n",
    "    if init_image is not None:\n",
    "        if isinstance(init_image, np.ndarray):\n",
    "            init_image = Image.fromarray(init_image)\n",
    "        elif not isinstance(init_image, Image.Image):\n",
    "            raise ValueError(f\"Unsupported image type: {type(init_image)}\")"
   ]
  },
  {
   "cell_type": "code",
   "execution_count": null,
   "id": "2c971c00",
   "metadata": {},
   "outputs": [],
   "source": [
    "init_image = init_image.resize((512, 512))"
   ]
  },
  {
   "cell_type": "code",
   "execution_count": null,
   "id": "cfc5ea13",
   "metadata": {},
   "outputs": [],
   "source": [
    "with torch.autocast(\"cuda\"):\n",
    "            result = pipe_img2img(\n",
    "                prompt=[prompt],\n",
    "                image=init_image,\n",
    "                strength=strength,\n",
    "                guidance_scale=7.5\n",
    "            )\n",
    "            return result.images\n",
    "    else:\n",
    "        with torch.autocast(\"cuda\"):\n",
    "            result = pipe_txt2img(\n",
    "                prompt=[prompt],\n",
    "                guidance_scale=7.5\n",
    "            )\n",
    "            return result.images"
   ]
  },
  {
   "cell_type": "code",
   "execution_count": null,
   "id": "fbadb3e8",
   "metadata": {},
   "outputs": [],
   "source": [
    "# ✅ Gradio 인터페이스 구성\n",
    "with gr.Blocks() as demo:\n",
    "    gr.Markdown(\"# 🎨 Stable Diffusion Image Generator\")"
   ]
  },
  {
   "cell_type": "code",
   "execution_count": null,
   "id": "aceaf2e0",
   "metadata": {},
   "outputs": [],
   "source": [
    "prompt_input = gr.Textbox(label=\"프롬프트\", value=\"a cushion on a car seat\")\n",
    "    init_image = gr.Image(label=\"초기 이미지 (선택)\", type=\"numpy\")\n",
    "    strength = gr.Slider(label=\"유지 강도\", minimum=0.0, maximum=1.0, value=0.75)\n",
    "    gallery = gr.Gallery(label=\"결과 이미지\")"
   ]
  },
  {
   "cell_type": "code",
   "execution_count": null,
   "id": "4e459f8e",
   "metadata": {},
   "outputs": [],
   "source": [
    "run_button = gr.Button(\"이미지 생성\")"
   ]
  },
  {
   "cell_type": "code",
   "execution_count": null,
   "id": "d1bf00e6",
   "metadata": {},
   "outputs": [],
   "source": [
    "run_button.click(fn=infer, inputs=[prompt_input, init_image, strength], outputs=[gallery])"
   ]
  },
  {
   "cell_type": "code",
   "execution_count": null,
   "id": "5a699e4f",
   "metadata": {},
   "outputs": [],
   "source": [
    "demo.launch(debug=True)"
   ]
  }
 ],
 "metadata": {
  "language": "python"
 },
 "nbformat": 4,
 "nbformat_minor": 5
}
