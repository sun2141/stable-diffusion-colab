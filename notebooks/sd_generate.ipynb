{
  "cells": [
    {
      "cell_type": "markdown",
      "metadata": {
        "id": "view-in-github",
        "colab_type": "text"
      },
      "source": [
        "<a href=\"https://colab.research.google.com/github/sun2141/stable-diffusion-colab/blob/main/notebooks/sd_generate.ipynb\" target=\"_parent\"><img src=\"https://colab.research.google.com/assets/colab-badge.svg\" alt=\"Open In Colab\"/></a>"
      ]
    },
    {
      "cell_type": "markdown",
      "metadata": {
        "id": "y8-KFrlkCann"
      },
      "source": [
        "# 🧠 Stable Diffusion Image Generator\n",
        "Automatically sets up dependencies from GitHub."
      ],
      "id": "y8-KFrlkCann"
    },
    {
      "cell_type": "code",
      "execution_count": null,
      "metadata": {
        "id": "GrjgKjJ-Canp"
      },
      "outputs": [],
      "source": [
        "# ✅ 설치된 requirements.txt 로 환경 구성\n",
        "!pip install -r https://raw.githubusercontent.com/<your-username>/<your-repo>/main/requirements.txt"
      ],
      "id": "GrjgKjJ-Canp"
    },
    {
      "cell_type": "code",
      "execution_count": null,
      "metadata": {
        "id": "w5q0jVm5Canp"
      },
      "outputs": [],
      "source": [
        "# ✅ 모델 임포트 시작\n",
        "from diffusers import StableDiffusionPipeline, StableDiffusionImg2ImgPipeline"
      ],
      "id": "w5q0jVm5Canp"
    }
  ],
  "metadata": {
    "kernelspec": {
      "display_name": "Python 3",
      "name": "python3"
    },
    "language_info": {
      "name": "python",
      "version": "3.11"
    },
    "colab": {
      "provenance": [],
      "gpuType": "T4",
      "include_colab_link": true
    },
    "accelerator": "GPU"
  },
  "nbformat": 4,
  "nbformat_minor": 5
}